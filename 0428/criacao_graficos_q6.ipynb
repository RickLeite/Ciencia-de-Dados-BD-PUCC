{
 "cells": [
  {
   "cell_type": "markdown",
   "metadata": {},
   "source": [
    "### Criação de Gráficos em Python"
   ]
  },
  {
   "cell_type": "markdown",
   "metadata": {},
   "source": [
    "##### 6) (Distribuição). Imagine que você está estudando o desempenho de estudantes em uma competição de matemática. Os dados fornecidos representam as pontuações obtidas por um grupo de estudantes. Cada valor no conjunto de dados corresponde à pontuação de um aluno específico. A pontuação da competição varia de 0 a 100 pontos. Os dados obtidos foram: <br>\n",
    "<b> <font color=\"#20a7db\"> 3  -  50 - 52 - 55 - 58 - 62 - 63 - 66 - 71 - 77 - 78 - 81 - 82 - 87 - 96 </font> </b>"
   ]
  },
  {
   "cell_type": "markdown",
   "metadata": {},
   "source": [
    "#### Geração dos Dados"
   ]
  },
  {
   "cell_type": "code",
   "execution_count": 20,
   "metadata": {},
   "outputs": [
    {
     "data": {
      "text/html": [
       "<div>\n",
       "<style scoped>\n",
       "    .dataframe tbody tr th:only-of-type {\n",
       "        vertical-align: middle;\n",
       "    }\n",
       "\n",
       "    .dataframe tbody tr th {\n",
       "        vertical-align: top;\n",
       "    }\n",
       "\n",
       "    .dataframe thead th {\n",
       "        text-align: right;\n",
       "    }\n",
       "</style>\n",
       "<table border=\"1\" class=\"dataframe\">\n",
       "  <thead>\n",
       "    <tr style=\"text-align: right;\">\n",
       "      <th></th>\n",
       "      <th>Alunos</th>\n",
       "      <th>Pontuações</th>\n",
       "    </tr>\n",
       "  </thead>\n",
       "  <tbody>\n",
       "    <tr>\n",
       "      <th>0</th>\n",
       "      <td>Joao</td>\n",
       "      <td>3</td>\n",
       "    </tr>\n",
       "    <tr>\n",
       "      <th>1</th>\n",
       "      <td>Maria</td>\n",
       "      <td>50</td>\n",
       "    </tr>\n",
       "    <tr>\n",
       "      <th>2</th>\n",
       "      <td>Fernando</td>\n",
       "      <td>52</td>\n",
       "    </tr>\n",
       "    <tr>\n",
       "      <th>3</th>\n",
       "      <td>Pedro</td>\n",
       "      <td>55</td>\n",
       "    </tr>\n",
       "    <tr>\n",
       "      <th>4</th>\n",
       "      <td>Henrique</td>\n",
       "      <td>58</td>\n",
       "    </tr>\n",
       "    <tr>\n",
       "      <th>5</th>\n",
       "      <td>Josefino</td>\n",
       "      <td>62</td>\n",
       "    </tr>\n",
       "    <tr>\n",
       "      <th>6</th>\n",
       "      <td>Joaquim</td>\n",
       "      <td>63</td>\n",
       "    </tr>\n",
       "    <tr>\n",
       "      <th>7</th>\n",
       "      <td>Deuza</td>\n",
       "      <td>66</td>\n",
       "    </tr>\n",
       "    <tr>\n",
       "      <th>8</th>\n",
       "      <td>Cadu</td>\n",
       "      <td>71</td>\n",
       "    </tr>\n",
       "    <tr>\n",
       "      <th>9</th>\n",
       "      <td>Jose</td>\n",
       "      <td>77</td>\n",
       "    </tr>\n",
       "    <tr>\n",
       "      <th>10</th>\n",
       "      <td>Aquiles</td>\n",
       "      <td>78</td>\n",
       "    </tr>\n",
       "    <tr>\n",
       "      <th>11</th>\n",
       "      <td>Roberto</td>\n",
       "      <td>81</td>\n",
       "    </tr>\n",
       "    <tr>\n",
       "      <th>12</th>\n",
       "      <td>Rodrigo</td>\n",
       "      <td>82</td>\n",
       "    </tr>\n",
       "    <tr>\n",
       "      <th>13</th>\n",
       "      <td>Weverton</td>\n",
       "      <td>87</td>\n",
       "    </tr>\n",
       "    <tr>\n",
       "      <th>14</th>\n",
       "      <td>Sophia</td>\n",
       "      <td>96</td>\n",
       "    </tr>\n",
       "  </tbody>\n",
       "</table>\n",
       "</div>"
      ],
      "text/plain": [
       "      Alunos  Pontuações\n",
       "0       Joao           3\n",
       "1      Maria          50\n",
       "2   Fernando          52\n",
       "3      Pedro          55\n",
       "4   Henrique          58\n",
       "5   Josefino          62\n",
       "6    Joaquim          63\n",
       "7      Deuza          66\n",
       "8       Cadu          71\n",
       "9       Jose          77\n",
       "10   Aquiles          78\n",
       "11   Roberto          81\n",
       "12   Rodrigo          82\n",
       "13  Weverton          87\n",
       "14    Sophia          96"
      ]
     },
     "execution_count": 20,
     "metadata": {},
     "output_type": "execute_result"
    }
   ],
   "source": [
    "import pandas as pd\n",
    "\n",
    "alunos = ['Joao', 'Maria', 'Fernando', 'Pedro', 'Henrique', 'Josefino', 'Joaquim', 'Deuza', 'Cadu', 'Jose', 'Aquiles', 'Roberto', 'Rodrigo', 'Weverton', 'Sophia'] \n",
    "pontuacoes = [3, 50, 52, 55, 58, 62, 63, 66, 71, 77, 78, 81, 82, 87, 96]\n",
    "data = pd.DataFrame({'Alunos': alunos, 'Pontuações': pontuacoes})\n",
    "data\n"
   ]
  },
  {
   "cell_type": "markdown",
   "metadata": {},
   "source": [
    "#### Gráfico Impactante"
   ]
  },
  {
   "cell_type": "code",
   "execution_count": 30,
   "metadata": {},
   "outputs": [
    {
     "data": {
      "image/png": "[encoded data removed]",
      "text/plain": [
       "<Figure size 800x600 with 1 Axes>"
      ]
     },
     "metadata": {},
     "output_type": "display_data"
    }
   ],
   "source": [
    "import matplotlib.pyplot as plt\n",
    "\n",
    "# Quartis\n",
    "quartis = data['Pontuações'].quantile([0.25, 0.5, 0.75])\n",
    "q1 = quartis[0.25]\n",
    "q2 = quartis[0.5]\n",
    "q3 = quartis[0.75]\n",
    "\n",
    "plt.figure(figsize=(8,6))\n",
    "plt.boxplot(data['Pontuações'], vert=False)\n",
    "plt.xlabel('Pontuações')\n",
    "plt.title('Boxplot das Pontuações dos Estudantes')\n",
    "\n",
    "legenda_quartis = [f'Q1: {q1}', \n",
    "                 f'Q2 (Mediana): {q2}', \n",
    "                 f'Q3: {q3}']\n",
    "plt.legend(legenda_quartis, loc='upper right')\n",
    "\n",
    "plt.yticks([])\n",
    "plt.grid(True)\n",
    "plt.show()\n"
   ]
  }
 ],
 "metadata": {
  "kernelspec": {
   "display_name": "Python 3",
   "language": "python",
   "name": "python3"
  },
  "language_info": {
   "codemirror_mode": {
    "name": "ipython",
    "version": 3
   },
   "file_extension": ".py",
   "mimetype": "text/x-python",
   "name": "python",
   "nbconvert_exporter": "python",
   "pygments_lexer": "ipython3",
   "version": "3.12.2"
  }
 },
 "nbformat": 4,
 "nbformat_minor": 2
}
