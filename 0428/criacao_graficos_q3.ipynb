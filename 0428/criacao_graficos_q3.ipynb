{
 "cells": [
  {
   "cell_type": "markdown",
   "metadata": {},
   "source": [
    "### Criação de Gráficos em Python"
   ]
  },
  {
   "cell_type": "markdown",
   "metadata": {},
   "source": [
    "##### 3) Uma empresa de logística está interessada em analisar a eficiência de diferentes rotas de entrega para otimizar sua operação. Eles possuem dados sobre o tempo médio de entrega de cada rota, a distância percorrida e o número de encomendas entregues. Qual tipo de visualização você sugere para representar essas informações e auxiliar a empresa na tomada de decisões? Justifique sua resposta."
   ]
  },
  {
   "cell_type": "markdown",
   "metadata": {},
   "source": [
    "### Escolha:"
   ]
  },
  {
   "cell_type": "markdown",
   "metadata": {},
   "source": [
    "Para o objeto da empresa de logística, se trata de um problema <font color=\"red\"> impossivel </font> com a visualização de dados, mas sim para a aplicação de um algoritmo de otimização de rotas. <br> <br>\n",
    "Variaveis:\n",
    "- tempo médio de entrega de cada rota\n",
    "- a distância percorrida\n",
    "- número de encomendas entregues.\n",
    "\n",
    "Para consideração da eficiência de diferentes rotas de entrega para otimizar sua operação, é relatada como um problema de otimização multiobjetivo. <br> <br>\n",
    "Segundo minhas pesquisas, não se trataria de algo mais comum como o problema do Caixeiro-viajante, mas algo como <font color=\"skyblue\"> improved Ant Lion Optimizer (IALO) </font> para realizar esta tarefa. <br>\n",
    "\n",
    "[The Ant Lion Optimizer (ALO) mimics the hunting mechanism of antlions in nature.](https://seyedalimirjalili.com/alo)\n",
    "\n"
   ]
  },
  {
   "cell_type": "markdown",
   "metadata": {},
   "source": [
    "![ALO](./images/ALO_algorithm.png)"
   ]
  }
 ],
 "metadata": {
  "kernelspec": {
   "display_name": "Python 3",
   "language": "python",
   "name": "python3"
  },
  "language_info": {
   "codemirror_mode": {
    "name": "ipython",
    "version": 3
   },
   "file_extension": ".py",
   "mimetype": "text/x-python",
   "name": "python",
   "nbconvert_exporter": "python",
   "pygments_lexer": "ipython3",
   "version": "3.12.2"
  }
 },
 "nbformat": 4,
 "nbformat_minor": 2
}
